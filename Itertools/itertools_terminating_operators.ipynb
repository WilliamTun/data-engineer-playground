{
 "cells": [
  {
   "cell_type": "markdown",
   "metadata": {},
   "source": [
    "# Terminating iterators\n",
    "\n",
    "- are used to work on the short input sequences\n",
    "- produce the output based on the functionality of the method used.\n",
    "\n",
    "# Type of terminating operators\n",
    "\n",
    "- accumulate(iter, func)\n",
    "- chain(iter1, iter2..)\n",
    "- chain.from_iterable()\n",
    "- compress(iter, selector)\n",
    "- dropwhile(func, seq)\n",
    "- filterfalse(func, seq)\n",
    "- islice(iterable, start, stop, step)\n",
    "- starmap(func., tuple list)\n",
    "- takewhile(func, iterable)\n",
    "- tee(iterator, count)"
   ]
  },
  {
   "cell_type": "markdown",
   "metadata": {},
   "source": [
    "# accumulate\n",
    "\n",
    "- This iterator takes two arguments\n",
    "- 1) iterable target \n",
    "- 2) the function to apply \n",
    "- which would be followed at each iteration of value in target. "
   ]
  },
  {
   "cell_type": "code",
   "execution_count": 4,
   "metadata": {},
   "outputs": [
    {
     "name": "stdout",
     "output_type": "stream",
     "text": [
      "The sum after each iteration is : [1, 3, 6, 10]\n",
      "The product after each iteration is : [1, 2, 6, 24]\n"
     ]
    }
   ],
   "source": [
    "import itertools\n",
    "import operator\n",
    " \n",
    "# initializing list 1\n",
    "li1 = [1, 2, 3, 4]\n",
    " \n",
    "# using accumulate()\n",
    "# prints the successive summation of elements\n",
    "print(\"The sum after each iteration is : \", end=\"\")\n",
    "print(list(itertools.accumulate(li1)))\n",
    " \n",
    "# using accumulate()\n",
    "# prints the successive multiplication of elements\n",
    "print(\"The product after each iteration is : \", end=\"\")\n",
    "print(list(itertools.accumulate(li1, operator.mul)))\n"
   ]
  },
  {
   "cell_type": "markdown",
   "metadata": {},
   "source": [
    "# chain(iter1, iter2..)\n",
    "This function is used to print all the values in iterable targets one after another mentioned in its arguments."
   ]
  },
  {
   "cell_type": "code",
   "execution_count": 3,
   "metadata": {},
   "outputs": [
    {
     "name": "stdout",
     "output_type": "stream",
     "text": [
      "All values in mentioned chain are : [1, 2, 3, 4, 5, 6, 7, 8, 9]\n"
     ]
    }
   ],
   "source": [
    "\n",
    "import itertools\n",
    " \n",
    "# initializing list 1\n",
    "li1 = [1, 2, 3]\n",
    " \n",
    "# initializing list 2\n",
    "li2 = [4, 5, 6]\n",
    " \n",
    "# initializing list 3\n",
    "li3 = [7, 8, 9]\n",
    " \n",
    "# using chain() to print all elements of lists\n",
    "print(\"All values in mentioned chain are : \", end=\"\")\n",
    "print(list(itertools.chain(li1, li2, li3)))"
   ]
  },
  {
   "cell_type": "markdown",
   "metadata": {},
   "source": [
    "# chain.from_iterable()\n",
    "Does same as chain(iter1, iter2,..)... BUT the argument here is a LIST OF LISTS ... or any other iterable container."
   ]
  },
  {
   "cell_type": "code",
   "execution_count": 5,
   "metadata": {},
   "outputs": [
    {
     "name": "stdout",
     "output_type": "stream",
     "text": [
      "All values in mentioned chain are : [1, 2, 3, 4, 5, 6, 7, 8, 9]\n"
     ]
    }
   ],
   "source": [
    "# initializing list 1\n",
    "li1 = [1, 2, 3]\n",
    "li2 = [4, 5, 6]\n",
    "li3 = [7, 8, 9]\n",
    "# initializing list of list\n",
    "li4 = [li1, li2, li3]\n",
    " \n",
    "# using chain.from_iterable() to print all elements of lists\n",
    "print (\"All values in mentioned chain are : \", end =\"\")\n",
    "print (list(itertools.chain.from_iterable(li4)))"
   ]
  },
  {
   "cell_type": "markdown",
   "metadata": {},
   "source": [
    "# compress(iter, selector) \n",
    "\n",
    "This iterator selectively picks the values to print from the passed container according to the boolean list value passed as other arguments. The arguments corresponding to boolean true are printed else all are skipped."
   ]
  },
  {
   "cell_type": "code",
   "execution_count": 11,
   "metadata": {},
   "outputs": [
    {
     "name": "stdout",
     "output_type": "stream",
     "text": [
      "The compressed values in string are : ['H', 'e', 'l', 'd']\n"
     ]
    }
   ],
   "source": [
    "# using compress() selectively print data values\n",
    "print(\"The compressed values in string are : \", end=\"\")\n",
    "print(list(itertools.compress('HelloWorld', [\n",
    "      1, 1, 0, 0, 0, 0, 0, 0, 1, 1])))"
   ]
  },
  {
   "cell_type": "code",
   "execution_count": 17,
   "metadata": {},
   "outputs": [
    {
     "name": "stdout",
     "output_type": "stream",
     "text": [
      "The compressed values in string are : ['H', 'e', 'W', 'o', 'l', 'd']\n"
     ]
    }
   ],
   "source": [
    "# Note you can use 1 / 0 \n",
    "# ... or you can use True / False\n",
    "print(\"The compressed values in string are : \", end=\"\")\n",
    "print(list(itertools.compress('HelloWorld', [\n",
    "      True, True, 0, 0, False, True, 1, 0, 1, 1])))"
   ]
  },
  {
   "cell_type": "markdown",
   "metadata": {},
   "source": [
    "# starmap(func., tuple list): \n",
    "This iterator takes a function and tuple list as argument and returns the value according to the function from each tuple of the list."
   ]
  },
  {
   "cell_type": "code",
   "execution_count": 18,
   "metadata": {},
   "outputs": [
    {
     "name": "stdout",
     "output_type": "stream",
     "text": [
      "The values acc. to function are : [1, 1, 4, 1]\n"
     ]
    }
   ],
   "source": [
    "# initializing tuple list\n",
    "li = [ (1, 10, 5), (8, 4, 1), (5, 4, 9), (11, 10, 1) ]\n",
    "   \n",
    "# using starmap() for selection value acc. to function\n",
    "# selects min of all tuple values\n",
    "print (\"The values acc. to function are : \", end =\"\")\n",
    "print (list(itertools.starmap(min, li)))"
   ]
  },
  {
   "cell_type": "code",
   "execution_count": null,
   "metadata": {},
   "outputs": [],
   "source": []
  }
 ],
 "metadata": {
  "kernelspec": {
   "display_name": "Python 3",
   "language": "python",
   "name": "python3"
  },
  "language_info": {
   "codemirror_mode": {
    "name": "ipython",
    "version": 3
   },
   "file_extension": ".py",
   "mimetype": "text/x-python",
   "name": "python",
   "nbconvert_exporter": "python",
   "pygments_lexer": "ipython3",
   "version": "3.7.3"
  }
 },
 "nbformat": 4,
 "nbformat_minor": 2
}
