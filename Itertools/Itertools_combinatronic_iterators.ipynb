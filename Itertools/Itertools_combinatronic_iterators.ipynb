{
 "cells": [
  {
   "cell_type": "markdown",
   "metadata": {},
   "source": [
    "# combinatronic iterators\n",
    "\n",
    "The recursive generators that are used to simplify combinatorial constructs such as permutations, combinations, and Cartesian products are called combinatoric iterators.\n",
    "\n",
    "- Product()\n",
    "- Permutations()\n",
    "- Combinations()\n",
    "- Combinations_with_replacement()"
   ]
  },
  {
   "cell_type": "markdown",
   "metadata": {},
   "source": [
    "# product()\n",
    "- computes the cartesian product of input iterables\n",
    "- The output of this function is tuples in sorted order.\n",
    "- we use the optional repeat keyword argument to specify the number of repetitions."
   ]
  },
  {
   "cell_type": "code",
   "execution_count": 9,
   "metadata": {},
   "outputs": [
    {
     "name": "stdout",
     "output_type": "stream",
     "text": [
      "The cartesian product using repeat:\n",
      "[(1, 1), (1, 2), (2, 1), (2, 2)]\n",
      "\n",
      "The cartesian product using repeat:\n",
      "[(1, 1, 1), (1, 1, 2), (1, 2, 1), (1, 2, 2), (2, 1, 1), (2, 1, 2), (2, 2, 1), (2, 2, 2)]\n",
      "\n",
      "The cartesian product using repeat:\n",
      "[(1, 1), (1, 2), (1, 3), (2, 1), (2, 2), (2, 3), (3, 1), (3, 2), (3, 3)]\n",
      "\n"
     ]
    }
   ],
   "source": [
    "from itertools import product\n",
    " \n",
    "print(\"The cartesian product using repeat:\")\n",
    "print(list(product([1, 2], repeat=2)))\n",
    "print()\n",
    "\n",
    "print(\"The cartesian product using repeat:\")\n",
    "print(list(product([1, 2], repeat=3)))\n",
    "print()\n",
    "\n",
    "print(\"The cartesian product using repeat:\")\n",
    "print(list(product([1, 2, 3], repeat=2)))\n",
    "print()"
   ]
  },
  {
   "cell_type": "code",
   "execution_count": 10,
   "metadata": {},
   "outputs": [
    {
     "name": "stdout",
     "output_type": "stream",
     "text": [
      "The cartesian product of the containers:\n",
      "[('A', 'X'), ('B', 'X'), ('C', 'X')]\n",
      "\n"
     ]
    }
   ],
   "source": [
    "print(\"The cartesian product of the containers:\")\n",
    "print(list(product(['A', 'B', 'C'], 'X')))\n",
    "print()"
   ]
  },
  {
   "cell_type": "code",
   "execution_count": 11,
   "metadata": {},
   "outputs": [
    {
     "name": "stdout",
     "output_type": "stream",
     "text": [
      "The cartesian product of the containers:\n",
      "[('A', 'X'), ('A', 'Y'), ('B', 'X'), ('B', 'Y')]\n"
     ]
    }
   ],
   "source": [
    "print(\"The cartesian product of the containers:\")\n",
    "print(list(product('AB', [\"X\", \"Y\"])))"
   ]
  },
  {
   "cell_type": "markdown",
   "metadata": {},
   "source": [
    "# permutations()\n",
    "\n",
    "- Permutations() as the name speaks for itself is used to generate all possible permutations of an iterable. \n",
    "- All elements are treated as unique based on their position and not their values"
   ]
  },
  {
   "cell_type": "code",
   "execution_count": 18,
   "metadata": {},
   "outputs": [
    {
     "name": "stdout",
     "output_type": "stream",
     "text": [
      "All the permutations of the given list is:\n",
      "[('X',), ('Y',)]\n",
      "\n",
      "All the permutations of the given list is:\n",
      "[('X', 'Y'), ('Y', 'X')]\n",
      "\n",
      "All the permutations of the given list is:\n",
      "[]\n",
      "\n"
     ]
    }
   ],
   "source": [
    "# import the product function from itertools module\n",
    "from itertools import permutations\n",
    " \n",
    "    \n",
    "\n",
    "print(\"All the permutations of the given list is:\")\n",
    "print(list(permutations([\"X\", 'Y'], 1)))\n",
    "print()\n",
    " \n",
    "print(\"All the permutations of the given list is:\")\n",
    "print(list(permutations([\"X\", 'Y'], 2)))\n",
    "print()\n",
    "\n",
    "print(\"All the permutations of the given list is:\")\n",
    "print(list(permutations([\"X\", 'Y'], 3)))\n",
    "print()\n"
   ]
  },
  {
   "cell_type": "code",
   "execution_count": 19,
   "metadata": {},
   "outputs": [
    {
     "name": "stdout",
     "output_type": "stream",
     "text": [
      "All the permutations of the given list is:\n",
      "[('X',), ('Y',), ('Z',)]\n",
      "\n",
      "All the permutations of the given list is:\n",
      "[('X', 'Y'), ('X', 'Z'), ('Y', 'X'), ('Y', 'Z'), ('Z', 'X'), ('Z', 'Y')]\n",
      "\n",
      "All the permutations of the given list is:\n",
      "[('X', 'Y', 'Z'), ('X', 'Z', 'Y'), ('Y', 'X', 'Z'), ('Y', 'Z', 'X'), ('Z', 'X', 'Y'), ('Z', 'Y', 'X')]\n",
      "\n"
     ]
    }
   ],
   "source": [
    "print(\"All the permutations of the given list is:\")\n",
    "print(list(permutations([\"X\", 'Y', 'Z'], 1)))\n",
    "print() \n",
    "\n",
    "print(\"All the permutations of the given list is:\")\n",
    "print(list(permutations([\"X\", 'Y', 'Z'], 2)))\n",
    "print() \n",
    "\n",
    "print(\"All the permutations of the given list is:\")\n",
    "print(list(permutations([\"X\", 'Y', 'Z'], 3)))\n",
    "print() "
   ]
  },
  {
   "cell_type": "markdown",
   "metadata": {},
   "source": [
    "# Combinations()\n",
    "This iterator prints all the possible combinations(without replacement) of the container passed in arguments in the specified group size in sorted order."
   ]
  },
  {
   "cell_type": "code",
   "execution_count": 22,
   "metadata": {},
   "outputs": [
    {
     "name": "stdout",
     "output_type": "stream",
     "text": [
      "All the combination of list in sorted order(without replacement) is:\n",
      "[('A',), ('B',)]\n",
      "\n",
      "All the combination of list in sorted order(without replacement) is:\n",
      "[('A', 'B')]\n",
      "\n",
      "All the combination of list in sorted order(without replacement) is:\n",
      "[]\n",
      "\n"
     ]
    }
   ],
   "source": [
    "from itertools import combinations\n",
    "   \n",
    "\n",
    "print (\"All the combination of list in sorted order(without replacement) is:\") \n",
    "print(list(combinations(['A', 'B'], 1)))\n",
    "print()\n",
    "    \n",
    "print (\"All the combination of list in sorted order(without replacement) is:\") \n",
    "print(list(combinations(['A', 'B'], 2)))\n",
    "print()\n",
    "   \n",
    "\n",
    "print (\"All the combination of list in sorted order(without replacement) is:\") \n",
    "print(list(combinations(['A', 'B'], 3)))\n",
    "print()\n",
    "    "
   ]
  },
  {
   "cell_type": "code",
   "execution_count": 24,
   "metadata": {},
   "outputs": [
    {
     "name": "stdout",
     "output_type": "stream",
     "text": [
      "All the combination of list in sorted order(without replacement) is:\n",
      "[('A',), ('B',), ('C',)]\n",
      "\n",
      "All the combination of list in sorted order(without replacement) is:\n",
      "[('A', 'B'), ('A', 'C'), ('B', 'C')]\n",
      "\n",
      "All the combination of list in sorted order(without replacement) is:\n",
      "[('A', 'B', 'C')]\n",
      "\n"
     ]
    }
   ],
   "source": [
    "\n",
    "print (\"All the combination of list in sorted order(without replacement) is:\") \n",
    "print(list(combinations(['A', 'B', 'C'], 1)))\n",
    "print()\n",
    "    \n",
    "print (\"All the combination of list in sorted order(without replacement) is:\") \n",
    "print(list(combinations(['A', 'B', 'C'], 2)))\n",
    "print()\n",
    "   \n",
    "print (\"All the combination of list in sorted order(without replacement) is:\") \n",
    "print(list(combinations(['A', 'B', 'C'], 3)))\n",
    "print()\n",
    "    "
   ]
  },
  {
   "cell_type": "markdown",
   "metadata": {},
   "source": [
    "# Combinations_with_replacement()\n",
    "- This function returns a subsequence of length n from the elements of the iterable \n",
    "  where n is the argument that the function takes determining the length of the subsequences generated by the function. \n",
    "- Individual elements may repeat itself in combinations_with_replacement function."
   ]
  },
  {
   "cell_type": "code",
   "execution_count": 28,
   "metadata": {},
   "outputs": [
    {
     "name": "stdout",
     "output_type": "stream",
     "text": [
      "All the combination of string in sorted order(with replacement) is:\n",
      "[('A',), ('B',)]\n",
      "\n",
      "All the combination of string in sorted order(with replacement) is:\n",
      "[('A', 'A'), ('A', 'B'), ('B', 'B')]\n",
      "\n",
      "All the combination of string in sorted order(with replacement) is:\n",
      "[('A', 'A', 'A'), ('A', 'A', 'B'), ('A', 'B', 'B'), ('B', 'B', 'B')]\n",
      "\n"
     ]
    }
   ],
   "source": [
    "# import combinations from itertools module\n",
    " \n",
    "from itertools import combinations_with_replacement\n",
    " \n",
    "print(\"All the combination of string in sorted order(with replacement) is:\")\n",
    "print(list(combinations_with_replacement([\"A\", \"B\"], 1)))\n",
    "print()\n",
    "    \n",
    "print(\"All the combination of string in sorted order(with replacement) is:\")\n",
    "print(list(combinations_with_replacement([\"A\", \"B\"], 2)))\n",
    "print()\n",
    "\n",
    "print(\"All the combination of string in sorted order(with replacement) is:\")\n",
    "print(list(combinations_with_replacement([\"A\", \"B\"], 3)))\n",
    "print()\n",
    "    "
   ]
  },
  {
   "cell_type": "code",
   "execution_count": null,
   "metadata": {},
   "outputs": [],
   "source": []
  },
  {
   "cell_type": "code",
   "execution_count": null,
   "metadata": {},
   "outputs": [],
   "source": []
  }
 ],
 "metadata": {
  "kernelspec": {
   "display_name": "Python 3",
   "language": "python",
   "name": "python3"
  },
  "language_info": {
   "codemirror_mode": {
    "name": "ipython",
    "version": 3
   },
   "file_extension": ".py",
   "mimetype": "text/x-python",
   "name": "python",
   "nbconvert_exporter": "python",
   "pygments_lexer": "ipython3",
   "version": "3.7.3"
  }
 },
 "nbformat": 4,
 "nbformat_minor": 2
}
