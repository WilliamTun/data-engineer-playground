{
 "cells": [
  {
   "cell_type": "code",
   "execution_count": 19,
   "metadata": {},
   "outputs": [],
   "source": [
    "import itertools"
   ]
  },
  {
   "cell_type": "markdown",
   "metadata": {},
   "source": [
    "# Infinite iterators\n",
    "- count()\n",
    "- next()\n",
    "- cycle()"
   ]
  },
  {
   "cell_type": "markdown",
   "metadata": {},
   "source": [
    "# count(start_value, step_value): \n",
    "This iterator starts printing from the “start” number and prints infinitely. "
   ]
  },
  {
   "cell_type": "code",
   "execution_count": 4,
   "metadata": {},
   "outputs": [
    {
     "name": "stdout",
     "output_type": "stream",
     "text": [
      "5 12 19 26 33 "
     ]
    }
   ],
   "source": [
    "# for in loop\n",
    "\n",
    "# start loop at 5, increment by 7\n",
    "for i in itertools.count(5, 7):\n",
    "    if i > 35: # finish \n",
    "        break\n",
    "    else:\n",
    "        print(i, end=\" \")"
   ]
  },
  {
   "cell_type": "markdown",
   "metadata": {},
   "source": [
    "# cycle()\n",
    "This iterator prints all values in order from the passed container. It restarts printing from the beginning again when all elements are printed in a cyclic manner."
   ]
  },
  {
   "cell_type": "code",
   "execution_count": 6,
   "metadata": {},
   "outputs": [
    {
     "name": "stdout",
     "output_type": "stream",
     "text": [
      "X Y Z X Y Z X Y "
     ]
    }
   ],
   "source": [
    "count = 0\n",
    " \n",
    "# for in loop\n",
    "for i in itertools.cycle('XYZ'):\n",
    "    if count > 7:\n",
    "        break\n",
    "    else:\n",
    "        print(i, end=\" \")\n",
    "        count += 1"
   ]
  },
  {
   "cell_type": "code",
   "execution_count": 11,
   "metadata": {},
   "outputs": [
    {
     "name": "stdout",
     "output_type": "stream",
     "text": [
      "1 False 2 True 1 False 2 True 1 False 2 "
     ]
    }
   ],
   "source": [
    "count = 0\n",
    " \n",
    "# for in loop\n",
    "for i in itertools.cycle([\"1\" ,False, 2, True]):\n",
    "    if count > 10:\n",
    "        break\n",
    "    else:\n",
    "        print(i, end=\" \")\n",
    "        count += 1"
   ]
  },
  {
   "cell_type": "markdown",
   "metadata": {},
   "source": [
    "# combine cycle() with next()"
   ]
  },
  {
   "cell_type": "code",
   "execution_count": 17,
   "metadata": {},
   "outputs": [
    {
     "name": "stdout",
     "output_type": "stream",
     "text": [
      "Hello world I am Will Hello world I am Will "
     ]
    }
   ],
   "source": [
    "# Python program to demonstrate\n",
    "# infinite iterators\n",
    " \n",
    "import itertools\n",
    " \n",
    "l = ['Hello', 'world', 'I', \"am\", \"Will\"]\n",
    " \n",
    "# defining iterator\n",
    "iterators = itertools.cycle(l)\n",
    " \n",
    "# for in loop\n",
    "for i in range(10):\n",
    "    # Using next function\n",
    "    print(next(iterators), end=\" \")"
   ]
  },
  {
   "cell_type": "markdown",
   "metadata": {},
   "source": [
    "# repeat()\n",
    "\n",
    "repeat(val, num): This iterator repeatedly prints the passed value an infinite number of times. If the optional keyword num is mentioned, then it repeatedly prints num number of times."
   ]
  },
  {
   "cell_type": "code",
   "execution_count": 18,
   "metadata": {},
   "outputs": [
    {
     "name": "stdout",
     "output_type": "stream",
     "text": [
      "Printing the numbers repeatedly : \n",
      "['Wow', 'Wow', 'Wow', 'Wow', 'Wow', 'Wow', 'Wow']\n"
     ]
    }
   ],
   "source": [
    "# using repeat() to repeatedly print number\n",
    "print(\"Printing the numbers repeatedly : \")\n",
    "print(list(itertools.repeat(\"Wow\", 7)))"
   ]
  },
  {
   "cell_type": "code",
   "execution_count": null,
   "metadata": {},
   "outputs": [],
   "source": []
  },
  {
   "cell_type": "code",
   "execution_count": null,
   "metadata": {},
   "outputs": [],
   "source": []
  },
  {
   "cell_type": "code",
   "execution_count": null,
   "metadata": {},
   "outputs": [],
   "source": []
  }
 ],
 "metadata": {
  "kernelspec": {
   "display_name": "Python 3",
   "language": "python",
   "name": "python3"
  },
  "language_info": {
   "codemirror_mode": {
    "name": "ipython",
    "version": 3
   },
   "file_extension": ".py",
   "mimetype": "text/x-python",
   "name": "python",
   "nbconvert_exporter": "python",
   "pygments_lexer": "ipython3",
   "version": "3.7.3"
  }
 },
 "nbformat": 4,
 "nbformat_minor": 2
}
